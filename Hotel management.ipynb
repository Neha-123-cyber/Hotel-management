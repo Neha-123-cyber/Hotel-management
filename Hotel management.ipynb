{
 "cells": [
  {
   "cell_type": "code",
   "execution_count": null,
   "id": "45eb821e-52e5-489b-990d-0438c24303c2",
   "metadata": {},
   "outputs": [],
   "source": [
    "#Define the menu of resturant"
   ]
  },
  {
   "cell_type": "code",
   "execution_count": 40,
   "id": "548b215e-bed5-4b97-8205-2f81247fd9f1",
   "metadata": {},
   "outputs": [
    {
     "name": "stdout",
     "output_type": "stream",
     "text": [
      "Welcome to Addhaa Resturant\n",
      "Pizza: Rs40\n",
      " Pasta: Rs50\n",
      " Burger: Rs60\n",
      " Salad: Rs70\n",
      " Coffee: Rs80\n"
     ]
    },
    {
     "name": "stdin",
     "output_type": "stream",
     "text": [
      "Enter the name of item you want to order = Pizza\n"
     ]
    },
    {
     "name": "stdout",
     "output_type": "stream",
     "text": [
      "Your item Pizza has been added to your order\n"
     ]
    },
    {
     "name": "stdin",
     "output_type": "stream",
     "text": [
      "Do you want to add another item? (Yes/No) Yes\n",
      "Enter the name of second item= Coffee\n"
     ]
    },
    {
     "name": "stdout",
     "output_type": "stream",
     "text": [
      "ItemCoffee has been added to order\n",
      "The Total amount of items to pay is 120\n"
     ]
    }
   ],
   "source": [
    "menu={\n",
    "    'Pizza':40,\n",
    "    'Pasta':50,\n",
    "    'Burger':60,\n",
    "    'Salad':70,\n",
    "    'Coffee':80,\n",
    "}\n",
    "\n",
    "#Greet\n",
    "print(\"Welcome to Addhaa Resturant\")\n",
    "print(\"Pizza: Rs40\\n Pasta: Rs50\\n Burger: Rs60\\n Salad: Rs70\\n Coffee: Rs80\")\n",
    "\n",
    "Order_Total = 0\n",
    "\n",
    "item_1 = input(\"Enter the name of item you want to order =\")\n",
    "if item_1 in menu:\n",
    "    Order_Total+= menu [item_1] #0 +50\n",
    "    print(f\"Your item {item_1} has been added to your order\")\n",
    "else:\n",
    "    print(f\"Ordered item{item_1} is not available yet!\")\n",
    "    \n",
    "another_order = input (\"Do you want to add another item? (Yes/No)\")\n",
    "if another_order == \"Yes\":\n",
    "    item_2 = input(\"Enter the name of second item=\")\n",
    "    if item_2 in menu:\n",
    "        Order_Total += menu[item_2] \n",
    "        print(f\"Item{item_2} has been added to order\")\n",
    "    else:\n",
    "        print(f\"Ordered item {item_2} is not available!\")\n",
    "print(f\"The Total amount of items to pay is {Order_Total}\")"
   ]
  },
  {
   "cell_type": "code",
   "execution_count": null,
   "id": "744dbdb9-3321-42a1-94ea-88071c25bd9c",
   "metadata": {},
   "outputs": [],
   "source": []
  },
  {
   "cell_type": "code",
   "execution_count": null,
   "id": "d30878e3-6d1e-473a-b439-0e3946fded01",
   "metadata": {},
   "outputs": [],
   "source": []
  }
 ],
 "metadata": {
  "kernelspec": {
   "display_name": "Python 3 (ipykernel)",
   "language": "python",
   "name": "python3"
  },
  "language_info": {
   "codemirror_mode": {
    "name": "ipython",
    "version": 3
   },
   "file_extension": ".py",
   "mimetype": "text/x-python",
   "name": "python",
   "nbconvert_exporter": "python",
   "pygments_lexer": "ipython3",
   "version": "3.11.7"
  }
 },
 "nbformat": 4,
 "nbformat_minor": 5
}
